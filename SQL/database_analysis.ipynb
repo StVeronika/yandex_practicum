{
 "cells": [
  {
   "cell_type": "markdown",
   "id": "043c5790",
   "metadata": {},
   "source": [
    "# Проект: Анализ базы данных сервиса для чтения книг по подписке"
   ]
  },
  {
   "cell_type": "markdown",
   "id": "d12aa451",
   "metadata": {},
   "source": [
    "## Цель и задачи"
   ]
  },
  {
   "cell_type": "markdown",
   "id": "c5394ad6",
   "metadata": {},
   "source": [
    "<b>Цель проекта:</b>\n",
    "    \n",
    "Провести исследовательский анализ данных сервиса для чтения книг по подписке с целью выявления пользовательских предпочтений, характеристик популярных книг и активности аудитории, чтобы сформировать ценностное предложение для нового продукта.\n",
    "\n",
    "<b>Задачи:</b>\n",
    "    \n",
    "1. Посчитать, сколько книг вышло после 1 января 2000 года;\n",
    "2. Для каждой книги посчитать количество обзоров и среднюю оценку;\n",
    "3. Определить издательство, которое выпустило наибольшее число книг толще 50 страниц для исключения из анализа брошюр;\n",
    "4. Определить автора с самой высокой средней оценкой книг (учитываются только книги с 50 и более оценками);\n",
    "5. Посчитать среднее количество обзоров от пользователей, которые поставили больше 48 оценок.\n",
    "\n",
    "<b>Описание данных:</b>\n",
    "Для анализа нам предоставлена база данных, содержащая пять таблиц:\n",
    "\n",
    "1. Таблица <b>books</b>\n",
    "\n",
    "   Содержит данные о книгах:\n",
    "   - book_id — идентификатор книги;\n",
    "   - author_id — идентификатор автора;\n",
    "   - title — название книги;\n",
    "   - num_pages — количество страниц;\n",
    "   - publication_date — дата публикации книги;\n",
    "   - publisher_id — идентификатор издателя.\n",
    "      \n",
    "\n",
    "2. Таблица <b>authors</b>\n",
    "\n",
    "   Содержит данные об авторах:\n",
    "   - author_id — идентификатор автора;\n",
    "   - author — имя автора.\n",
    "   \n",
    "\n",
    "3. Таблица <b>publishers</b>\n",
    "\n",
    "   Содержит данные об издательствах:\n",
    "   - publisher_id — идентификатор издательства;\n",
    "   - publisher — название издательства.\n",
    "   \n",
    "\n",
    "4. Таблица <b>ratings</b>\n",
    "\n",
    "   Содержит данные о пользовательских оценках книг:\n",
    "   - rating_id — идентификатор оценки;\n",
    "   - book_id — идентификатор книги;\n",
    "   - username — имя пользователя, оставившего оценку;\n",
    "   - rating — оценка книги.\n",
    "   \n",
    "\n",
    "5. Таблица <b>reviews</b>\n",
    "\n",
    "   Содержит данные о пользовательских обзорах на книги:\n",
    "   - review_id — идентификатор обзора;\n",
    "   - book_id — идентификатор книги;\n",
    "   - username — имя пользователя, написавшего обзор;\n",
    "   - text — текст обзора.\n",
    "\n",
    "<b>План работ:</b>\n",
    "    \n",
    "1. Подключение к базе данных\n",
    "2. Исследование таблиц базы данных\n",
    "3. Подсчет количества книг, вышедших после 1 января 2000 года\n",
    "4. Подсчет количества обзоров и средней оценки для каждой книги\n",
    "5. Определение издательства, которое выпустило наибольшее число книг\n",
    "6. Определение автора с самой высокой средней оценкой книг\n",
    "7. Посчитать среднее количество обзоров от пользователей, которые поставили больше 48 оценок\n",
    "8. Вывод и рекомендации"
   ]
  },
  {
   "cell_type": "markdown",
   "id": "3facc496",
   "metadata": {},
   "source": [
    "## Подключение к базе данных"
   ]
  },
  {
   "cell_type": "code",
   "execution_count": 1,
   "id": "88ae902c",
   "metadata": {},
   "outputs": [],
   "source": [
    "# импортируем библиотеки\n",
    "import pandas as pd\n",
    "import sqlalchemy as sa"
   ]
  },
  {
   "cell_type": "code",
   "execution_count": 2,
   "id": "8a50e38d",
   "metadata": {},
   "outputs": [],
   "source": [
    "# устанавливаем параметры\n",
    "db_config = {\n",
    "    'user': 'praktikum_student',  # имя пользователя\n",
    "    'pwd': 'Sdf4$2;d-d30pp',      # пароль\n",
    "    'host': 'rc1b-wcoijxj3yxfsf3fs.mdb.yandexcloud.net',\n",
    "    'port': 6432,                 # порт подключения\n",
    "    'db': 'data-analyst-final-project-db'  # название базы данных\n",
    "}\n",
    "\n",
    "# создаем строку подключения\n",
    "connection_string = 'postgresql://{user}:{pwd}@{host}:{port}/{db}'.format(**db_config)\n",
    "\n",
    "# сохраняем коннектор\n",
    "engine = sa.create_engine(connection_string, connect_args={'sslmode': 'require'})\n",
    "\n",
    "# чтобы выполнить SQL-запрос, пишем функцию с использованием Pandas\n",
    "def get_sql_data(query: str, engine: sa.engine.base.Engine = engine) -> pd.DataFrame:\n",
    "    '''Открываем соединение, получаем данные из SQL, закрываем соединение'''\n",
    "    with engine.connect() as con:\n",
    "        return pd.read_sql(sql=sa.text(query), con=con)"
   ]
  },
  {
   "cell_type": "markdown",
   "id": "bdf48399",
   "metadata": {},
   "source": [
    "## Исследование таблиц базы данных"
   ]
  },
  {
   "cell_type": "markdown",
   "id": "0aea1dc0",
   "metadata": {},
   "source": [
    "Перед тем как приступить к анализу данных, посмортим ближе на ьаблицы датасета."
   ]
  },
  {
   "cell_type": "markdown",
   "id": "abb6d6d0",
   "metadata": {},
   "source": [
    "### Таблица books"
   ]
  },
  {
   "cell_type": "code",
   "execution_count": 3,
   "id": "79c7026a",
   "metadata": {},
   "outputs": [
    {
     "data": {
      "text/html": [
       "<div>\n",
       "<style scoped>\n",
       "    .dataframe tbody tr th:only-of-type {\n",
       "        vertical-align: middle;\n",
       "    }\n",
       "\n",
       "    .dataframe tbody tr th {\n",
       "        vertical-align: top;\n",
       "    }\n",
       "\n",
       "    .dataframe thead th {\n",
       "        text-align: right;\n",
       "    }\n",
       "</style>\n",
       "<table border=\"1\" class=\"dataframe\">\n",
       "  <thead>\n",
       "    <tr style=\"text-align: right;\">\n",
       "      <th></th>\n",
       "      <th>book_id</th>\n",
       "      <th>author_id</th>\n",
       "      <th>title</th>\n",
       "      <th>num_pages</th>\n",
       "      <th>publication_date</th>\n",
       "      <th>publisher_id</th>\n",
       "    </tr>\n",
       "  </thead>\n",
       "  <tbody>\n",
       "    <tr>\n",
       "      <th>0</th>\n",
       "      <td>1</td>\n",
       "      <td>546</td>\n",
       "      <td>'Salem's Lot</td>\n",
       "      <td>594</td>\n",
       "      <td>2005-11-01</td>\n",
       "      <td>93</td>\n",
       "    </tr>\n",
       "    <tr>\n",
       "      <th>1</th>\n",
       "      <td>2</td>\n",
       "      <td>465</td>\n",
       "      <td>1 000 Places to See Before You Die</td>\n",
       "      <td>992</td>\n",
       "      <td>2003-05-22</td>\n",
       "      <td>336</td>\n",
       "    </tr>\n",
       "    <tr>\n",
       "      <th>2</th>\n",
       "      <td>3</td>\n",
       "      <td>407</td>\n",
       "      <td>13 Little Blue Envelopes (Little Blue Envelope...</td>\n",
       "      <td>322</td>\n",
       "      <td>2010-12-21</td>\n",
       "      <td>135</td>\n",
       "    </tr>\n",
       "    <tr>\n",
       "      <th>3</th>\n",
       "      <td>4</td>\n",
       "      <td>82</td>\n",
       "      <td>1491: New Revelations of the Americas Before C...</td>\n",
       "      <td>541</td>\n",
       "      <td>2006-10-10</td>\n",
       "      <td>309</td>\n",
       "    </tr>\n",
       "    <tr>\n",
       "      <th>4</th>\n",
       "      <td>5</td>\n",
       "      <td>125</td>\n",
       "      <td>1776</td>\n",
       "      <td>386</td>\n",
       "      <td>2006-07-04</td>\n",
       "      <td>268</td>\n",
       "    </tr>\n",
       "  </tbody>\n",
       "</table>\n",
       "</div>"
      ],
      "text/plain": [
       "   book_id  author_id                                              title  \\\n",
       "0        1        546                                       'Salem's Lot   \n",
       "1        2        465                 1 000 Places to See Before You Die   \n",
       "2        3        407  13 Little Blue Envelopes (Little Blue Envelope...   \n",
       "3        4         82  1491: New Revelations of the Americas Before C...   \n",
       "4        5        125                                               1776   \n",
       "\n",
       "   num_pages publication_date  publisher_id  \n",
       "0        594       2005-11-01            93  \n",
       "1        992       2003-05-22           336  \n",
       "2        322       2010-12-21           135  \n",
       "3        541       2006-10-10           309  \n",
       "4        386       2006-07-04           268  "
      ]
     },
     "execution_count": 3,
     "metadata": {},
     "output_type": "execute_result"
    }
   ],
   "source": [
    "# формируем запрос и выводим данные\n",
    "books_table = '''\n",
    "SELECT * \n",
    "FROM books\n",
    "LIMIT 5\n",
    "'''\n",
    "get_sql_data(books_table)"
   ]
  },
  {
   "cell_type": "code",
   "execution_count": 4,
   "id": "6c003af2",
   "metadata": {
    "scrolled": true
   },
   "outputs": [
    {
     "data": {
      "text/html": [
       "<div>\n",
       "<style scoped>\n",
       "    .dataframe tbody tr th:only-of-type {\n",
       "        vertical-align: middle;\n",
       "    }\n",
       "\n",
       "    .dataframe tbody tr th {\n",
       "        vertical-align: top;\n",
       "    }\n",
       "\n",
       "    .dataframe thead th {\n",
       "        text-align: right;\n",
       "    }\n",
       "</style>\n",
       "<table border=\"1\" class=\"dataframe\">\n",
       "  <thead>\n",
       "    <tr style=\"text-align: right;\">\n",
       "      <th></th>\n",
       "      <th>count</th>\n",
       "    </tr>\n",
       "  </thead>\n",
       "  <tbody>\n",
       "    <tr>\n",
       "      <th>0</th>\n",
       "      <td>1000</td>\n",
       "    </tr>\n",
       "  </tbody>\n",
       "</table>\n",
       "</div>"
      ],
      "text/plain": [
       "   count\n",
       "0   1000"
      ]
     },
     "execution_count": 4,
     "metadata": {},
     "output_type": "execute_result"
    }
   ],
   "source": [
    "# формируем запрос и выводим данные\n",
    "books_table_cnt = '''\n",
    "SELECT COUNT(book_id) \n",
    "FROM books\n",
    "'''\n",
    "get_sql_data(books_table_cnt)"
   ]
  },
  {
   "cell_type": "markdown",
   "id": "dbd63ecd",
   "metadata": {},
   "source": [
    "В таблице `books` записи о 1000 книг, их названиях, количестве страниц, годе выпуска, id издателя и автора книги.\n",
    "\n",
    "ID издательства и автора понадобятся нам в дальнейшем для связи с таблицами с данными об авторах и издательствах."
   ]
  },
  {
   "cell_type": "markdown",
   "id": "367a000e",
   "metadata": {},
   "source": [
    "### Таблица authors"
   ]
  },
  {
   "cell_type": "code",
   "execution_count": 5,
   "id": "7ce2348a",
   "metadata": {},
   "outputs": [
    {
     "data": {
      "text/html": [
       "<div>\n",
       "<style scoped>\n",
       "    .dataframe tbody tr th:only-of-type {\n",
       "        vertical-align: middle;\n",
       "    }\n",
       "\n",
       "    .dataframe tbody tr th {\n",
       "        vertical-align: top;\n",
       "    }\n",
       "\n",
       "    .dataframe thead th {\n",
       "        text-align: right;\n",
       "    }\n",
       "</style>\n",
       "<table border=\"1\" class=\"dataframe\">\n",
       "  <thead>\n",
       "    <tr style=\"text-align: right;\">\n",
       "      <th></th>\n",
       "      <th>author_id</th>\n",
       "      <th>author</th>\n",
       "    </tr>\n",
       "  </thead>\n",
       "  <tbody>\n",
       "    <tr>\n",
       "      <th>0</th>\n",
       "      <td>1</td>\n",
       "      <td>A.S. Byatt</td>\n",
       "    </tr>\n",
       "    <tr>\n",
       "      <th>1</th>\n",
       "      <td>2</td>\n",
       "      <td>Aesop/Laura Harris/Laura Gibbs</td>\n",
       "    </tr>\n",
       "    <tr>\n",
       "      <th>2</th>\n",
       "      <td>3</td>\n",
       "      <td>Agatha Christie</td>\n",
       "    </tr>\n",
       "    <tr>\n",
       "      <th>3</th>\n",
       "      <td>4</td>\n",
       "      <td>Alan Brennert</td>\n",
       "    </tr>\n",
       "    <tr>\n",
       "      <th>4</th>\n",
       "      <td>5</td>\n",
       "      <td>Alan Moore/David   Lloyd</td>\n",
       "    </tr>\n",
       "  </tbody>\n",
       "</table>\n",
       "</div>"
      ],
      "text/plain": [
       "   author_id                          author\n",
       "0          1                      A.S. Byatt\n",
       "1          2  Aesop/Laura Harris/Laura Gibbs\n",
       "2          3                 Agatha Christie\n",
       "3          4                   Alan Brennert\n",
       "4          5        Alan Moore/David   Lloyd"
      ]
     },
     "execution_count": 5,
     "metadata": {},
     "output_type": "execute_result"
    }
   ],
   "source": [
    "# формируем запрос и выводим данные\n",
    "authors_table = '''\n",
    "SELECT * \n",
    "FROM authors\n",
    "LIMIT 5\n",
    "'''\n",
    "get_sql_data(authors_table)"
   ]
  },
  {
   "cell_type": "code",
   "execution_count": 6,
   "id": "4d4348d8",
   "metadata": {},
   "outputs": [
    {
     "data": {
      "text/html": [
       "<div>\n",
       "<style scoped>\n",
       "    .dataframe tbody tr th:only-of-type {\n",
       "        vertical-align: middle;\n",
       "    }\n",
       "\n",
       "    .dataframe tbody tr th {\n",
       "        vertical-align: top;\n",
       "    }\n",
       "\n",
       "    .dataframe thead th {\n",
       "        text-align: right;\n",
       "    }\n",
       "</style>\n",
       "<table border=\"1\" class=\"dataframe\">\n",
       "  <thead>\n",
       "    <tr style=\"text-align: right;\">\n",
       "      <th></th>\n",
       "      <th>count</th>\n",
       "    </tr>\n",
       "  </thead>\n",
       "  <tbody>\n",
       "    <tr>\n",
       "      <th>0</th>\n",
       "      <td>636</td>\n",
       "    </tr>\n",
       "  </tbody>\n",
       "</table>\n",
       "</div>"
      ],
      "text/plain": [
       "   count\n",
       "0    636"
      ]
     },
     "execution_count": 6,
     "metadata": {},
     "output_type": "execute_result"
    }
   ],
   "source": [
    "# формируем запрос и выводим данные\n",
    "authors_table_cnt = '''\n",
    "SELECT COUNT(author_id) \n",
    "FROM authors\n",
    "'''\n",
    "get_sql_data(authors_table_cnt)"
   ]
  },
  {
   "cell_type": "markdown",
   "id": "34f7d11e",
   "metadata": {},
   "source": [
    "В таблице `authors` 636 записей об авторах и всего две колонки с ID и именем автора. Это говорит о том, что некоторым авторам в базе соответствует более одной книги из таблицы `books`. С таблицей `books` они связаны по полю `author_id`."
   ]
  },
  {
   "cell_type": "markdown",
   "id": "a47194e8",
   "metadata": {},
   "source": [
    "### Таблица publishers"
   ]
  },
  {
   "cell_type": "code",
   "execution_count": 7,
   "id": "63b858d0",
   "metadata": {},
   "outputs": [
    {
     "data": {
      "text/html": [
       "<div>\n",
       "<style scoped>\n",
       "    .dataframe tbody tr th:only-of-type {\n",
       "        vertical-align: middle;\n",
       "    }\n",
       "\n",
       "    .dataframe tbody tr th {\n",
       "        vertical-align: top;\n",
       "    }\n",
       "\n",
       "    .dataframe thead th {\n",
       "        text-align: right;\n",
       "    }\n",
       "</style>\n",
       "<table border=\"1\" class=\"dataframe\">\n",
       "  <thead>\n",
       "    <tr style=\"text-align: right;\">\n",
       "      <th></th>\n",
       "      <th>publisher_id</th>\n",
       "      <th>publisher</th>\n",
       "    </tr>\n",
       "  </thead>\n",
       "  <tbody>\n",
       "    <tr>\n",
       "      <th>0</th>\n",
       "      <td>1</td>\n",
       "      <td>Ace</td>\n",
       "    </tr>\n",
       "    <tr>\n",
       "      <th>1</th>\n",
       "      <td>2</td>\n",
       "      <td>Ace Book</td>\n",
       "    </tr>\n",
       "    <tr>\n",
       "      <th>2</th>\n",
       "      <td>3</td>\n",
       "      <td>Ace Books</td>\n",
       "    </tr>\n",
       "    <tr>\n",
       "      <th>3</th>\n",
       "      <td>4</td>\n",
       "      <td>Ace Hardcover</td>\n",
       "    </tr>\n",
       "    <tr>\n",
       "      <th>4</th>\n",
       "      <td>5</td>\n",
       "      <td>Addison Wesley Publishing Company</td>\n",
       "    </tr>\n",
       "  </tbody>\n",
       "</table>\n",
       "</div>"
      ],
      "text/plain": [
       "   publisher_id                          publisher\n",
       "0             1                                Ace\n",
       "1             2                           Ace Book\n",
       "2             3                          Ace Books\n",
       "3             4                      Ace Hardcover\n",
       "4             5  Addison Wesley Publishing Company"
      ]
     },
     "execution_count": 7,
     "metadata": {},
     "output_type": "execute_result"
    }
   ],
   "source": [
    "# формируем запрос и выводим данные\n",
    "publishers_table = '''\n",
    "SELECT * \n",
    "FROM publishers\n",
    "LIMIT 5\n",
    "'''\n",
    "get_sql_data(publishers_table)"
   ]
  },
  {
   "cell_type": "code",
   "execution_count": 8,
   "id": "c7c0d3c0",
   "metadata": {},
   "outputs": [
    {
     "data": {
      "text/html": [
       "<div>\n",
       "<style scoped>\n",
       "    .dataframe tbody tr th:only-of-type {\n",
       "        vertical-align: middle;\n",
       "    }\n",
       "\n",
       "    .dataframe tbody tr th {\n",
       "        vertical-align: top;\n",
       "    }\n",
       "\n",
       "    .dataframe thead th {\n",
       "        text-align: right;\n",
       "    }\n",
       "</style>\n",
       "<table border=\"1\" class=\"dataframe\">\n",
       "  <thead>\n",
       "    <tr style=\"text-align: right;\">\n",
       "      <th></th>\n",
       "      <th>count</th>\n",
       "    </tr>\n",
       "  </thead>\n",
       "  <tbody>\n",
       "    <tr>\n",
       "      <th>0</th>\n",
       "      <td>340</td>\n",
       "    </tr>\n",
       "  </tbody>\n",
       "</table>\n",
       "</div>"
      ],
      "text/plain": [
       "   count\n",
       "0    340"
      ]
     },
     "execution_count": 8,
     "metadata": {},
     "output_type": "execute_result"
    }
   ],
   "source": [
    "# формируем запрос и выводим данные\n",
    "publishers_table_cnt = '''\n",
    "SELECT COUNT(publisher_id) \n",
    "FROM publishers\n",
    "'''\n",
    "get_sql_data(publishers_table_cnt)"
   ]
  },
  {
   "cell_type": "markdown",
   "id": "8f2f75ec",
   "metadata": {},
   "source": [
    "В таблице `publishers` 340 записей об авторах и всего две колонки с ID и названием издательства. Это говорит о том, что некоторым издательствам в базе соответствует более одной книги из таблицы `books`. С таблицей `books` они связаны по полю `publisher_id`."
   ]
  },
  {
   "cell_type": "markdown",
   "id": "bd16dbd0",
   "metadata": {},
   "source": [
    "### Таблица ratings"
   ]
  },
  {
   "cell_type": "code",
   "execution_count": 9,
   "id": "3438fe3b",
   "metadata": {},
   "outputs": [
    {
     "data": {
      "text/html": [
       "<div>\n",
       "<style scoped>\n",
       "    .dataframe tbody tr th:only-of-type {\n",
       "        vertical-align: middle;\n",
       "    }\n",
       "\n",
       "    .dataframe tbody tr th {\n",
       "        vertical-align: top;\n",
       "    }\n",
       "\n",
       "    .dataframe thead th {\n",
       "        text-align: right;\n",
       "    }\n",
       "</style>\n",
       "<table border=\"1\" class=\"dataframe\">\n",
       "  <thead>\n",
       "    <tr style=\"text-align: right;\">\n",
       "      <th></th>\n",
       "      <th>rating_id</th>\n",
       "      <th>book_id</th>\n",
       "      <th>username</th>\n",
       "      <th>rating</th>\n",
       "    </tr>\n",
       "  </thead>\n",
       "  <tbody>\n",
       "    <tr>\n",
       "      <th>0</th>\n",
       "      <td>1</td>\n",
       "      <td>1</td>\n",
       "      <td>ryanfranco</td>\n",
       "      <td>4</td>\n",
       "    </tr>\n",
       "    <tr>\n",
       "      <th>1</th>\n",
       "      <td>2</td>\n",
       "      <td>1</td>\n",
       "      <td>grantpatricia</td>\n",
       "      <td>2</td>\n",
       "    </tr>\n",
       "    <tr>\n",
       "      <th>2</th>\n",
       "      <td>3</td>\n",
       "      <td>1</td>\n",
       "      <td>brandtandrea</td>\n",
       "      <td>5</td>\n",
       "    </tr>\n",
       "    <tr>\n",
       "      <th>3</th>\n",
       "      <td>4</td>\n",
       "      <td>2</td>\n",
       "      <td>lorichen</td>\n",
       "      <td>3</td>\n",
       "    </tr>\n",
       "    <tr>\n",
       "      <th>4</th>\n",
       "      <td>5</td>\n",
       "      <td>2</td>\n",
       "      <td>mariokeller</td>\n",
       "      <td>2</td>\n",
       "    </tr>\n",
       "  </tbody>\n",
       "</table>\n",
       "</div>"
      ],
      "text/plain": [
       "   rating_id  book_id       username  rating\n",
       "0          1        1     ryanfranco       4\n",
       "1          2        1  grantpatricia       2\n",
       "2          3        1   brandtandrea       5\n",
       "3          4        2       lorichen       3\n",
       "4          5        2    mariokeller       2"
      ]
     },
     "execution_count": 9,
     "metadata": {},
     "output_type": "execute_result"
    }
   ],
   "source": [
    "# формируем запрос и выводим данные\n",
    "ratings_table = '''\n",
    "SELECT * \n",
    "FROM ratings\n",
    "LIMIT 5\n",
    "'''\n",
    "get_sql_data(ratings_table)"
   ]
  },
  {
   "cell_type": "code",
   "execution_count": 10,
   "id": "6bd5cd15",
   "metadata": {},
   "outputs": [
    {
     "data": {
      "text/html": [
       "<div>\n",
       "<style scoped>\n",
       "    .dataframe tbody tr th:only-of-type {\n",
       "        vertical-align: middle;\n",
       "    }\n",
       "\n",
       "    .dataframe tbody tr th {\n",
       "        vertical-align: top;\n",
       "    }\n",
       "\n",
       "    .dataframe thead th {\n",
       "        text-align: right;\n",
       "    }\n",
       "</style>\n",
       "<table border=\"1\" class=\"dataframe\">\n",
       "  <thead>\n",
       "    <tr style=\"text-align: right;\">\n",
       "      <th></th>\n",
       "      <th>count</th>\n",
       "    </tr>\n",
       "  </thead>\n",
       "  <tbody>\n",
       "    <tr>\n",
       "      <th>0</th>\n",
       "      <td>6456</td>\n",
       "    </tr>\n",
       "  </tbody>\n",
       "</table>\n",
       "</div>"
      ],
      "text/plain": [
       "   count\n",
       "0   6456"
      ]
     },
     "execution_count": 10,
     "metadata": {},
     "output_type": "execute_result"
    }
   ],
   "source": [
    "# формируем запрос и выводим данные\n",
    "ratings_table_cnt = '''\n",
    "SELECT COUNT(rating_id) \n",
    "FROM ratings\n",
    "'''\n",
    "get_sql_data(ratings_table_cnt)"
   ]
  },
  {
   "cell_type": "markdown",
   "id": "82037701",
   "metadata": {},
   "source": [
    "В таблице `ratings` 6456 записей об оценках книг. Это говорит о том, что некоторым книгам в базе принадлежит более одной оценки. С таблицей `books` оценки связаны по полю `book_id`."
   ]
  },
  {
   "cell_type": "markdown",
   "id": "569e478b",
   "metadata": {},
   "source": [
    "### Таблица reviews"
   ]
  },
  {
   "cell_type": "code",
   "execution_count": 11,
   "id": "35deadcd",
   "metadata": {},
   "outputs": [
    {
     "data": {
      "text/html": [
       "<div>\n",
       "<style scoped>\n",
       "    .dataframe tbody tr th:only-of-type {\n",
       "        vertical-align: middle;\n",
       "    }\n",
       "\n",
       "    .dataframe tbody tr th {\n",
       "        vertical-align: top;\n",
       "    }\n",
       "\n",
       "    .dataframe thead th {\n",
       "        text-align: right;\n",
       "    }\n",
       "</style>\n",
       "<table border=\"1\" class=\"dataframe\">\n",
       "  <thead>\n",
       "    <tr style=\"text-align: right;\">\n",
       "      <th></th>\n",
       "      <th>review_id</th>\n",
       "      <th>book_id</th>\n",
       "      <th>username</th>\n",
       "      <th>text</th>\n",
       "    </tr>\n",
       "  </thead>\n",
       "  <tbody>\n",
       "    <tr>\n",
       "      <th>0</th>\n",
       "      <td>1</td>\n",
       "      <td>1</td>\n",
       "      <td>brandtandrea</td>\n",
       "      <td>Mention society tell send professor analysis. ...</td>\n",
       "    </tr>\n",
       "    <tr>\n",
       "      <th>1</th>\n",
       "      <td>2</td>\n",
       "      <td>1</td>\n",
       "      <td>ryanfranco</td>\n",
       "      <td>Foot glass pretty audience hit themselves. Amo...</td>\n",
       "    </tr>\n",
       "    <tr>\n",
       "      <th>2</th>\n",
       "      <td>3</td>\n",
       "      <td>2</td>\n",
       "      <td>lorichen</td>\n",
       "      <td>Listen treat keep worry. Miss husband tax but ...</td>\n",
       "    </tr>\n",
       "    <tr>\n",
       "      <th>3</th>\n",
       "      <td>4</td>\n",
       "      <td>3</td>\n",
       "      <td>johnsonamanda</td>\n",
       "      <td>Finally month interesting blue could nature cu...</td>\n",
       "    </tr>\n",
       "    <tr>\n",
       "      <th>4</th>\n",
       "      <td>5</td>\n",
       "      <td>3</td>\n",
       "      <td>scotttamara</td>\n",
       "      <td>Nation purpose heavy give wait song will. List...</td>\n",
       "    </tr>\n",
       "  </tbody>\n",
       "</table>\n",
       "</div>"
      ],
      "text/plain": [
       "   review_id  book_id       username  \\\n",
       "0          1        1   brandtandrea   \n",
       "1          2        1     ryanfranco   \n",
       "2          3        2       lorichen   \n",
       "3          4        3  johnsonamanda   \n",
       "4          5        3    scotttamara   \n",
       "\n",
       "                                                text  \n",
       "0  Mention society tell send professor analysis. ...  \n",
       "1  Foot glass pretty audience hit themselves. Amo...  \n",
       "2  Listen treat keep worry. Miss husband tax but ...  \n",
       "3  Finally month interesting blue could nature cu...  \n",
       "4  Nation purpose heavy give wait song will. List...  "
      ]
     },
     "execution_count": 11,
     "metadata": {},
     "output_type": "execute_result"
    }
   ],
   "source": [
    "# формируем запрос и выводим данные\n",
    "reviews_table = '''\n",
    "SELECT * \n",
    "FROM reviews\n",
    "LIMIT 5\n",
    "'''\n",
    "get_sql_data(reviews_table)"
   ]
  },
  {
   "cell_type": "code",
   "execution_count": 12,
   "id": "aedf1dc6",
   "metadata": {},
   "outputs": [
    {
     "data": {
      "text/html": [
       "<div>\n",
       "<style scoped>\n",
       "    .dataframe tbody tr th:only-of-type {\n",
       "        vertical-align: middle;\n",
       "    }\n",
       "\n",
       "    .dataframe tbody tr th {\n",
       "        vertical-align: top;\n",
       "    }\n",
       "\n",
       "    .dataframe thead th {\n",
       "        text-align: right;\n",
       "    }\n",
       "</style>\n",
       "<table border=\"1\" class=\"dataframe\">\n",
       "  <thead>\n",
       "    <tr style=\"text-align: right;\">\n",
       "      <th></th>\n",
       "      <th>count</th>\n",
       "    </tr>\n",
       "  </thead>\n",
       "  <tbody>\n",
       "    <tr>\n",
       "      <th>0</th>\n",
       "      <td>2793</td>\n",
       "    </tr>\n",
       "  </tbody>\n",
       "</table>\n",
       "</div>"
      ],
      "text/plain": [
       "   count\n",
       "0   2793"
      ]
     },
     "execution_count": 12,
     "metadata": {},
     "output_type": "execute_result"
    }
   ],
   "source": [
    "# формируем запрос и выводим данные\n",
    "reviews_table_cnt = '''\n",
    "SELECT COUNT(review_id) \n",
    "FROM reviews\n",
    "'''\n",
    "get_sql_data(reviews_table_cnt)"
   ]
  },
  {
   "cell_type": "markdown",
   "id": "e17a1792",
   "metadata": {},
   "source": [
    "В таблице `reviews` 2793 записей об отзывах о книгах. Это говорит о том, что некоторым книгам в базе принадлежит более одного отзыва. С таблицей `books` отзывы связаны по полю `book_id`."
   ]
  },
  {
   "cell_type": "markdown",
   "id": "7fd75665",
   "metadata": {},
   "source": [
    "## Подсчет количества книг, вышедших после 1 января 2000 года"
   ]
  },
  {
   "cell_type": "code",
   "execution_count": 13,
   "id": "a62acbec",
   "metadata": {},
   "outputs": [
    {
     "data": {
      "text/html": [
       "<div>\n",
       "<style scoped>\n",
       "    .dataframe tbody tr th:only-of-type {\n",
       "        vertical-align: middle;\n",
       "    }\n",
       "\n",
       "    .dataframe tbody tr th {\n",
       "        vertical-align: top;\n",
       "    }\n",
       "\n",
       "    .dataframe thead th {\n",
       "        text-align: right;\n",
       "    }\n",
       "</style>\n",
       "<table border=\"1\" class=\"dataframe\">\n",
       "  <thead>\n",
       "    <tr style=\"text-align: right;\">\n",
       "      <th></th>\n",
       "      <th>count</th>\n",
       "    </tr>\n",
       "  </thead>\n",
       "  <tbody>\n",
       "    <tr>\n",
       "      <th>0</th>\n",
       "      <td>819</td>\n",
       "    </tr>\n",
       "  </tbody>\n",
       "</table>\n",
       "</div>"
      ],
      "text/plain": [
       "   count\n",
       "0    819"
      ]
     },
     "execution_count": 13,
     "metadata": {},
     "output_type": "execute_result"
    }
   ],
   "source": [
    "# формируем запрос и выводим данные\n",
    "books_cnt = '''\n",
    "SELECT COUNT(book_id) \n",
    "FROM books\n",
    "WHERE publication_date > '2000-01-01'\n",
    "'''\n",
    "get_sql_data(books_cnt)"
   ]
  },
  {
   "cell_type": "markdown",
   "id": "8e0948e5",
   "metadata": {},
   "source": [
    "В базе данных <b>819 изданий</b>, вышедших после 1 января 2000 года."
   ]
  },
  {
   "cell_type": "markdown",
   "id": "927054e6",
   "metadata": {},
   "source": [
    "## Подсчет количества обзоров и средней оценки для каждой книги"
   ]
  },
  {
   "cell_type": "code",
   "execution_count": 14,
   "id": "63fbf5c8",
   "metadata": {
    "scrolled": false
   },
   "outputs": [
    {
     "data": {
      "text/html": [
       "<div>\n",
       "<style scoped>\n",
       "    .dataframe tbody tr th:only-of-type {\n",
       "        vertical-align: middle;\n",
       "    }\n",
       "\n",
       "    .dataframe tbody tr th {\n",
       "        vertical-align: top;\n",
       "    }\n",
       "\n",
       "    .dataframe thead th {\n",
       "        text-align: right;\n",
       "    }\n",
       "</style>\n",
       "<table border=\"1\" class=\"dataframe\">\n",
       "  <thead>\n",
       "    <tr style=\"text-align: right;\">\n",
       "      <th></th>\n",
       "      <th>book_id</th>\n",
       "      <th>title</th>\n",
       "      <th>avg_rating</th>\n",
       "      <th>reviews_count</th>\n",
       "    </tr>\n",
       "  </thead>\n",
       "  <tbody>\n",
       "    <tr>\n",
       "      <th>0</th>\n",
       "      <td>17</td>\n",
       "      <td>A Dirty Job (Grim Reaper  #1)</td>\n",
       "      <td>5.00</td>\n",
       "      <td>16</td>\n",
       "    </tr>\n",
       "    <tr>\n",
       "      <th>1</th>\n",
       "      <td>553</td>\n",
       "      <td>School's Out—Forever (Maximum Ride  #2)</td>\n",
       "      <td>5.00</td>\n",
       "      <td>12</td>\n",
       "    </tr>\n",
       "    <tr>\n",
       "      <th>2</th>\n",
       "      <td>444</td>\n",
       "      <td>Moneyball: The Art of Winning an Unfair Game</td>\n",
       "      <td>5.00</td>\n",
       "      <td>9</td>\n",
       "    </tr>\n",
       "    <tr>\n",
       "      <th>3</th>\n",
       "      <td>347</td>\n",
       "      <td>In the Hand of the Goddess (Song of the Liones...</td>\n",
       "      <td>5.00</td>\n",
       "      <td>6</td>\n",
       "    </tr>\n",
       "    <tr>\n",
       "      <th>4</th>\n",
       "      <td>610</td>\n",
       "      <td>Tai-Pan (Asian Saga  #2)</td>\n",
       "      <td>5.00</td>\n",
       "      <td>4</td>\n",
       "    </tr>\n",
       "    <tr>\n",
       "      <th>...</th>\n",
       "      <td>...</td>\n",
       "      <td>...</td>\n",
       "      <td>...</td>\n",
       "      <td>...</td>\n",
       "    </tr>\n",
       "    <tr>\n",
       "      <th>995</th>\n",
       "      <td>915</td>\n",
       "      <td>The World Is Flat: A Brief History of the Twen...</td>\n",
       "      <td>2.25</td>\n",
       "      <td>12</td>\n",
       "    </tr>\n",
       "    <tr>\n",
       "      <th>996</th>\n",
       "      <td>202</td>\n",
       "      <td>Drowning Ruth</td>\n",
       "      <td>2.00</td>\n",
       "      <td>9</td>\n",
       "    </tr>\n",
       "    <tr>\n",
       "      <th>997</th>\n",
       "      <td>371</td>\n",
       "      <td>Junky</td>\n",
       "      <td>2.00</td>\n",
       "      <td>4</td>\n",
       "    </tr>\n",
       "    <tr>\n",
       "      <th>998</th>\n",
       "      <td>316</td>\n",
       "      <td>His Excellency: George Washington</td>\n",
       "      <td>2.00</td>\n",
       "      <td>4</td>\n",
       "    </tr>\n",
       "    <tr>\n",
       "      <th>999</th>\n",
       "      <td>303</td>\n",
       "      <td>Harvesting the Heart</td>\n",
       "      <td>1.50</td>\n",
       "      <td>4</td>\n",
       "    </tr>\n",
       "  </tbody>\n",
       "</table>\n",
       "<p>1000 rows × 4 columns</p>\n",
       "</div>"
      ],
      "text/plain": [
       "     book_id                                              title  avg_rating  \\\n",
       "0         17                      A Dirty Job (Grim Reaper  #1)        5.00   \n",
       "1        553            School's Out—Forever (Maximum Ride  #2)        5.00   \n",
       "2        444       Moneyball: The Art of Winning an Unfair Game        5.00   \n",
       "3        347  In the Hand of the Goddess (Song of the Liones...        5.00   \n",
       "4        610                           Tai-Pan (Asian Saga  #2)        5.00   \n",
       "..       ...                                                ...         ...   \n",
       "995      915  The World Is Flat: A Brief History of the Twen...        2.25   \n",
       "996      202                                      Drowning Ruth        2.00   \n",
       "997      371                                              Junky        2.00   \n",
       "998      316                  His Excellency: George Washington        2.00   \n",
       "999      303                               Harvesting the Heart        1.50   \n",
       "\n",
       "     reviews_count  \n",
       "0               16  \n",
       "1               12  \n",
       "2                9  \n",
       "3                6  \n",
       "4                4  \n",
       "..             ...  \n",
       "995             12  \n",
       "996              9  \n",
       "997              4  \n",
       "998              4  \n",
       "999              4  \n",
       "\n",
       "[1000 rows x 4 columns]"
      ]
     },
     "execution_count": 14,
     "metadata": {},
     "output_type": "execute_result"
    }
   ],
   "source": [
    "# формируем запрос и выводим данные\n",
    "rv_rt_cnt = '''\n",
    "SELECT b.book_id,\n",
    "       b.title,\n",
    "       AVG(rt.rating) AS avg_rating,\n",
    "       COUNT(rv.review_id) AS reviews_count\n",
    "FROM books AS b\n",
    "LEFT JOIN ratings AS rt ON b.book_id=rt.book_id\n",
    "LEFT JOIN reviews AS rv ON b.book_id=rv.book_id\n",
    "GROUP BY b.book_id\n",
    "ORDER BY avg_rating DESC, reviews_count DESC\n",
    "'''\n",
    "get_sql_data(rv_rt_cnt)"
   ]
  },
  {
   "cell_type": "markdown",
   "id": "442e1a15",
   "metadata": {},
   "source": [
    "Средний рейтинг и количество ообзоров книг показывает большую вариативность. Посмотрим на максимальные и минимальные значения среднего рейтинга и количества обзоров. "
   ]
  },
  {
   "cell_type": "code",
   "execution_count": 15,
   "id": "aaa9c9ff",
   "metadata": {},
   "outputs": [
    {
     "data": {
      "text/html": [
       "<div>\n",
       "<style scoped>\n",
       "    .dataframe tbody tr th:only-of-type {\n",
       "        vertical-align: middle;\n",
       "    }\n",
       "\n",
       "    .dataframe tbody tr th {\n",
       "        vertical-align: top;\n",
       "    }\n",
       "\n",
       "    .dataframe thead th {\n",
       "        text-align: right;\n",
       "    }\n",
       "</style>\n",
       "<table border=\"1\" class=\"dataframe\">\n",
       "  <thead>\n",
       "    <tr style=\"text-align: right;\">\n",
       "      <th></th>\n",
       "      <th>max_avg_rating</th>\n",
       "      <th>min_avg_rating</th>\n",
       "      <th>max_reviews_count</th>\n",
       "      <th>min_reviews_count</th>\n",
       "    </tr>\n",
       "  </thead>\n",
       "  <tbody>\n",
       "    <tr>\n",
       "      <th>0</th>\n",
       "      <td>5.0</td>\n",
       "      <td>1.5</td>\n",
       "      <td>1120</td>\n",
       "      <td>0</td>\n",
       "    </tr>\n",
       "  </tbody>\n",
       "</table>\n",
       "</div>"
      ],
      "text/plain": [
       "   max_avg_rating  min_avg_rating  max_reviews_count  min_reviews_count\n",
       "0             5.0             1.5               1120                  0"
      ]
     },
     "execution_count": 15,
     "metadata": {},
     "output_type": "execute_result"
    }
   ],
   "source": [
    "# формируем запрос и выводим данные\n",
    "rv_rt_max_min = '''\n",
    "WITH avg_rt_cnt_rv AS (\n",
    "    SELECT b.book_id,\n",
    "           b.title,\n",
    "           AVG(rt.rating) AS avg_rating,\n",
    "           COUNT(rv.review_id) AS reviews_count\n",
    "    FROM books AS b\n",
    "    LEFT JOIN ratings AS rt ON b.book_id=rt.book_id\n",
    "    LEFT JOIN reviews AS rv ON b.book_id=rv.book_id\n",
    "    GROUP BY b.book_id\n",
    ")\n",
    "\n",
    "SELECT MAX(avg_rating) AS max_avg_rating,\n",
    "       MIN(avg_rating) min_avg_rating,\n",
    "       MAX(reviews_count) AS max_reviews_count,\n",
    "       MIN(reviews_count) AS min_reviews_count\n",
    "FROM avg_rt_cnt_rv\n",
    "'''\n",
    "get_sql_data(rv_rt_max_min)"
   ]
  },
  {
   "cell_type": "markdown",
   "id": "7bece25e",
   "metadata": {},
   "source": [
    "Средний <b>рейтинг</b> книг варьируется <b>от 5 до 1.5</b>, а количество <b>обзоров от 1120 до 0</b>."
   ]
  },
  {
   "cell_type": "markdown",
   "id": "950caa5a",
   "metadata": {},
   "source": [
    "## Определение издательства, которое выпустило наибольшее число книг толще 50 страниц"
   ]
  },
  {
   "cell_type": "markdown",
   "id": "8a3e8af8",
   "metadata": {},
   "source": [
    "Чтобы определить издательство, которое выпустило наибольшее число книг толще\n",
    "50 страниц, добавим временную таблицу с ID книг соответствующих требованию по количеству страниц."
   ]
  },
  {
   "cell_type": "code",
   "execution_count": 16,
   "id": "b62c6e49",
   "metadata": {},
   "outputs": [
    {
     "data": {
      "text/html": [
       "<div>\n",
       "<style scoped>\n",
       "    .dataframe tbody tr th:only-of-type {\n",
       "        vertical-align: middle;\n",
       "    }\n",
       "\n",
       "    .dataframe tbody tr th {\n",
       "        vertical-align: top;\n",
       "    }\n",
       "\n",
       "    .dataframe thead th {\n",
       "        text-align: right;\n",
       "    }\n",
       "</style>\n",
       "<table border=\"1\" class=\"dataframe\">\n",
       "  <thead>\n",
       "    <tr style=\"text-align: right;\">\n",
       "      <th></th>\n",
       "      <th>publisher</th>\n",
       "      <th>books_count</th>\n",
       "    </tr>\n",
       "  </thead>\n",
       "  <tbody>\n",
       "    <tr>\n",
       "      <th>0</th>\n",
       "      <td>Penguin Books</td>\n",
       "      <td>42</td>\n",
       "    </tr>\n",
       "  </tbody>\n",
       "</table>\n",
       "</div>"
      ],
      "text/plain": [
       "       publisher  books_count\n",
       "0  Penguin Books           42"
      ]
     },
     "execution_count": 16,
     "metadata": {},
     "output_type": "execute_result"
    }
   ],
   "source": [
    "# формируем запрос и выводим данные\n",
    "top_publisher = '''\n",
    "WITH books_only AS (\n",
    "     SELECT book_id,\n",
    "            publisher_id\n",
    "     FROM books\n",
    "     WHERE num_pages > 50\n",
    "     )\n",
    "                   \n",
    "SELECT p.publisher,\n",
    "       COUNT(bo.book_id) AS books_count\n",
    "FROM publishers AS p\n",
    "RIGHT JOIN books_only AS bo ON p.publisher_id=bo.publisher_id\n",
    "GROUP BY p.publisher_id\n",
    "ORDER BY books_count DESC\n",
    "LIMIT 1\n",
    "'''\n",
    "get_sql_data(top_publisher)"
   ]
  },
  {
   "cell_type": "markdown",
   "id": "da676865",
   "metadata": {},
   "source": [
    "Наибольшее количество книг (а именнно <b>42 книги</b>) выпустило издательство <b>Penguin Books</b>."
   ]
  },
  {
   "cell_type": "markdown",
   "id": "af69978b",
   "metadata": {},
   "source": [
    "## Определение автора с самой высокой средней оценкой книг"
   ]
  },
  {
   "cell_type": "markdown",
   "id": "8cafd81e",
   "metadata": {},
   "source": [
    "Для определения автора с самой высокой средней оценкой книг отберем только книги с количеством оценок более 50."
   ]
  },
  {
   "cell_type": "code",
   "execution_count": 17,
   "id": "158c4878",
   "metadata": {
    "scrolled": false
   },
   "outputs": [
    {
     "data": {
      "text/html": [
       "<div>\n",
       "<style scoped>\n",
       "    .dataframe tbody tr th:only-of-type {\n",
       "        vertical-align: middle;\n",
       "    }\n",
       "\n",
       "    .dataframe tbody tr th {\n",
       "        vertical-align: top;\n",
       "    }\n",
       "\n",
       "    .dataframe thead th {\n",
       "        text-align: right;\n",
       "    }\n",
       "</style>\n",
       "<table border=\"1\" class=\"dataframe\">\n",
       "  <thead>\n",
       "    <tr style=\"text-align: right;\">\n",
       "      <th></th>\n",
       "      <th>author</th>\n",
       "      <th>avg_author_rating</th>\n",
       "    </tr>\n",
       "  </thead>\n",
       "  <tbody>\n",
       "    <tr>\n",
       "      <th>0</th>\n",
       "      <td>J.K. Rowling/Mary GrandPré</td>\n",
       "      <td>4.283844</td>\n",
       "    </tr>\n",
       "  </tbody>\n",
       "</table>\n",
       "</div>"
      ],
      "text/plain": [
       "                       author  avg_author_rating\n",
       "0  J.K. Rowling/Mary GrandPré           4.283844"
      ]
     },
     "execution_count": 17,
     "metadata": {},
     "output_type": "execute_result"
    }
   ],
   "source": [
    "# формируем запрос и выводим данные\n",
    "top_author = '''\n",
    "WITH books_with_enough_ratings AS (\n",
    "    SELECT \n",
    "        b.book_id,\n",
    "        b.author_id,\n",
    "        COUNT(rt.rating_id) AS rating_count,\n",
    "        AVG(rt.rating) AS avg_book_rating\n",
    "    FROM books AS b\n",
    "    JOIN ratings AS rt ON b.book_id = rt.book_id\n",
    "    GROUP BY b.book_id, b.author_id\n",
    "    HAVING COUNT(rt.rating_id) >= 50),\n",
    "    \n",
    "author_rating AS (\n",
    "    SELECT \n",
    "        author_id,\n",
    "        AVG(avg_book_rating) AS avg_author_rating\n",
    "    FROM books_with_enough_ratings\n",
    "    GROUP BY author_id)\n",
    "    \n",
    "SELECT \n",
    "    a.author,\n",
    "    ar.avg_author_rating\n",
    "FROM authors AS a\n",
    "JOIN author_rating AS ar ON a.author_id = ar.author_id\n",
    "ORDER BY ar.avg_author_rating DESC\n",
    "LIMIT 1\n",
    "'''\n",
    "get_sql_data(top_author)"
   ]
  },
  {
   "cell_type": "markdown",
   "id": "b9fbc185",
   "metadata": {},
   "source": [
    "Наивысшие оценки получают книги авторства <b>J.K. Rowling/Mary GrandPré</b> - средний рейтинг <b>4.28</b> по 5 бальной шкале.\n",
    "\n",
    "Судя по паре автор/иллюстратор, можно предположить, что наивысшие оценки заработала серия книг о Гарри Поттере."
   ]
  },
  {
   "cell_type": "markdown",
   "id": "09008d48",
   "metadata": {},
   "source": [
    "## Подсчет среднего количества обзоров от пользователей, которые поставили больше 48 оценок"
   ]
  },
  {
   "cell_type": "code",
   "execution_count": 18,
   "id": "811788c5",
   "metadata": {},
   "outputs": [
    {
     "data": {
      "text/html": [
       "<div>\n",
       "<style scoped>\n",
       "    .dataframe tbody tr th:only-of-type {\n",
       "        vertical-align: middle;\n",
       "    }\n",
       "\n",
       "    .dataframe tbody tr th {\n",
       "        vertical-align: top;\n",
       "    }\n",
       "\n",
       "    .dataframe thead th {\n",
       "        text-align: right;\n",
       "    }\n",
       "</style>\n",
       "<table border=\"1\" class=\"dataframe\">\n",
       "  <thead>\n",
       "    <tr style=\"text-align: right;\">\n",
       "      <th></th>\n",
       "      <th>avg_users_reviews_count</th>\n",
       "    </tr>\n",
       "  </thead>\n",
       "  <tbody>\n",
       "    <tr>\n",
       "      <th>0</th>\n",
       "      <td>24.0</td>\n",
       "    </tr>\n",
       "  </tbody>\n",
       "</table>\n",
       "</div>"
      ],
      "text/plain": [
       "   avg_users_reviews_count\n",
       "0                     24.0"
      ]
     },
     "execution_count": 18,
     "metadata": {},
     "output_type": "execute_result"
    }
   ],
   "source": [
    "# формируем запрос и выводим данные\n",
    "users_activity = '''\n",
    "WITH \n",
    "user_ratings_count AS (\n",
    "    SELECT \n",
    "        username,\n",
    "        COUNT(rating_id) AS ratings_count\n",
    "    FROM ratings \n",
    "    GROUP BY username\n",
    "    HAVING COUNT(rating_id) > 48\n",
    "    ),\n",
    "user_reviews_count AS (\n",
    "    SELECT \n",
    "        username,\n",
    "        COUNT(review_id) AS reviews_count\n",
    "    FROM reviews\n",
    "    WHERE username IN (SELECT username\n",
    "                       FROM user_ratings_count)\n",
    "    GROUP BY username\n",
    "        )\n",
    "\n",
    "SELECT AVG(reviews_count) AS avg_users_reviews_count\n",
    "FROM user_reviews_count\n",
    "'''\n",
    "get_sql_data(users_activity)"
   ]
  },
  {
   "cell_type": "markdown",
   "id": "32bc5b80",
   "metadata": {},
   "source": [
    "Наиболее вовлеченные пользователи (оставили более 48 оценок к книгам) в среднем оставляют <b>24 обзора</b> на книги в приложении."
   ]
  },
  {
   "cell_type": "markdown",
   "id": "c2523e5a",
   "metadata": {},
   "source": [
    "## Выводы и рекомендации"
   ]
  },
  {
   "cell_type": "markdown",
   "id": "b4446de4",
   "metadata": {},
   "source": [
    "В анализируемой базе данных содержатся записи о <b>1000 книг</b>, написанных <b>636 авторами</b> и изданных <b>340 издательствами</b>. Также в базе представлены данные о <b>6456 оценках</b>, формирующих рейтинги книг, и <b>2793 обзора</b>.\n",
    "\n",
    "В результате анализа были получены следующие выводы:\n",
    "\n",
    "1. В базе данных <b>819 изданий</b>, вышедших после 1 января 2000 года.\n",
    "\n",
    "2. Средний рейтинг и количество обзоров книг показывает большую вариативность. <b>Средний рейтинг</b> книг варьируется <b>от 5 до 1.5</b>, а <b>количество обзоров от 1120 до 0</b>.\n",
    "\n",
    "3. Наибольшее количество книг (а именно <b>42 книги</b>) выпустило издательство <b>Penguin Books</b>.\n",
    "\n",
    "4. Наивысшие оценки получают книги авторства J.K. Rowling/Mary GrandPré - средний рейтинг 4.28 по 5 бальной шкале. Судя по паре автор/иллюстратор, можно предположить, что наивысшие оценки заработала серия книг о Гарри Поттере.\n",
    "\n",
    "5. Наиболее вовлеченные пользователи (оставили более 48 оценок к книгам) в среднем оставляют 24 обзора на книги в приложении.\n",
    "____\n",
    "\n",
    "<b>Рекомендации:</b>\n",
    "\n",
    "1. Наивысшие оценки получают популярные серии книг (например, «Гарри Поттер»). Исходя из этого, Рекомендуется провести анализ с целью выявления популярных серий и авторов с высоким рейтингом, отсутствующих в каталоге. Такие серии и книги рекомендуется включить в каталог.\n",
    "\n",
    "2. Более 80% книг изданы после 2000 года. Можно протестировать интерес пользователей к классической литературе и книгам XX века, добавив их в каталог.\n",
    "\n",
    "2. С целью повышения вовлеченности и активности пользователей, создания пользовательского контента, рекомендуется продумать и внедрить программу поощрения активных пользователей. Например, разработать систему бэйджей, скидок и\\или бонусов.\n",
    "\n",
    "4. Рекомендуется разработать механизм персонализированных подборок книг для пользователей, оставляющих обзоры и оценки к прочитанным книгам. Это может помочь увеличить вовлеченность и снизить отток пользователей."
   ]
  }
 ],
 "metadata": {
  "ExecuteTimeLog": [
   {
    "duration": 145,
    "start_time": "2025-05-27T12:56:16.646Z"
   },
   {
    "duration": 99,
    "start_time": "2025-05-27T13:01:57.793Z"
   },
   {
    "duration": 49,
    "start_time": "2025-05-27T13:02:05.738Z"
   },
   {
    "duration": 9,
    "start_time": "2025-05-27T13:06:53.969Z"
   },
   {
    "duration": 95,
    "start_time": "2025-05-27T13:08:46.815Z"
   },
   {
    "duration": 571,
    "start_time": "2025-05-27T13:09:26.387Z"
   },
   {
    "duration": 10416,
    "start_time": "2025-05-27T13:09:27.742Z"
   },
   {
    "duration": 63,
    "start_time": "2025-05-27T13:35:59.827Z"
   },
   {
    "duration": 11,
    "start_time": "2025-05-27T13:38:05.507Z"
   },
   {
    "duration": 13,
    "start_time": "2025-05-27T13:46:27.661Z"
   },
   {
    "duration": 11,
    "start_time": "2025-05-27T13:46:28.649Z"
   },
   {
    "duration": 57,
    "start_time": "2025-05-27T13:46:56.170Z"
   },
   {
    "duration": 12,
    "start_time": "2025-05-27T13:47:30.804Z"
   },
   {
    "duration": 24,
    "start_time": "2025-05-27T13:47:54.673Z"
   },
   {
    "duration": 10,
    "start_time": "2025-05-27T13:48:02.494Z"
   },
   {
    "duration": 13,
    "start_time": "2025-05-27T13:48:25.593Z"
   },
   {
    "duration": 11,
    "start_time": "2025-05-27T13:48:34.873Z"
   },
   {
    "duration": 13,
    "start_time": "2025-05-27T13:52:36.717Z"
   },
   {
    "duration": 11,
    "start_time": "2025-05-27T13:52:51.584Z"
   },
   {
    "duration": 11,
    "start_time": "2025-05-27T13:56:11.675Z"
   },
   {
    "duration": 24,
    "start_time": "2025-05-27T14:24:15.391Z"
   },
   {
    "duration": 24,
    "start_time": "2025-05-27T14:26:27.444Z"
   },
   {
    "duration": 40,
    "start_time": "2025-05-27T14:27:00.106Z"
   },
   {
    "duration": 972,
    "start_time": "2025-05-27T14:28:29.737Z"
   },
   {
    "duration": 937,
    "start_time": "2025-05-27T14:29:33.851Z"
   },
   {
    "duration": 65,
    "start_time": "2025-05-27T19:53:38.367Z"
   },
   {
    "duration": 68,
    "start_time": "2025-05-27T19:53:52.033Z"
   },
   {
    "duration": 23,
    "start_time": "2025-05-27T20:59:57.453Z"
   },
   {
    "duration": 13,
    "start_time": "2025-05-27T21:00:57.579Z"
   },
   {
    "duration": 12,
    "start_time": "2025-05-27T21:01:24.345Z"
   },
   {
    "duration": 25,
    "start_time": "2025-05-27T21:10:59.731Z"
   },
   {
    "duration": 23,
    "start_time": "2025-05-27T21:18:02.921Z"
   },
   {
    "duration": 24,
    "start_time": "2025-05-27T21:18:11.803Z"
   },
   {
    "duration": 25,
    "start_time": "2025-05-27T21:21:14.439Z"
   },
   {
    "duration": 25,
    "start_time": "2025-05-27T21:26:53.764Z"
   },
   {
    "duration": 22,
    "start_time": "2025-05-27T21:27:11.541Z"
   },
   {
    "duration": 19,
    "start_time": "2025-05-27T21:27:31.201Z"
   },
   {
    "duration": 23,
    "start_time": "2025-05-27T21:49:01.430Z"
   },
   {
    "duration": 20,
    "start_time": "2025-05-27T21:58:03.876Z"
   },
   {
    "duration": 17,
    "start_time": "2025-05-27T21:58:23.516Z"
   },
   {
    "duration": 20,
    "start_time": "2025-05-27T21:58:41.474Z"
   },
   {
    "duration": 24,
    "start_time": "2025-05-27T21:59:08.452Z"
   },
   {
    "duration": 17,
    "start_time": "2025-05-27T21:59:21.345Z"
   },
   {
    "duration": 15,
    "start_time": "2025-05-27T21:59:30.050Z"
   },
   {
    "duration": 14,
    "start_time": "2025-05-27T22:12:21.912Z"
   },
   {
    "duration": 24,
    "start_time": "2025-05-27T22:14:40.510Z"
   },
   {
    "duration": 13,
    "start_time": "2025-05-27T22:14:52.399Z"
   },
   {
    "duration": 12,
    "start_time": "2025-05-27T22:15:21.942Z"
   },
   {
    "duration": 12,
    "start_time": "2025-05-27T22:47:25.097Z"
   },
   {
    "duration": 556,
    "start_time": "2025-05-28T08:04:08.466Z"
   },
   {
    "duration": 8888,
    "start_time": "2025-05-28T08:04:09.024Z"
   },
   {
    "duration": 240,
    "start_time": "2025-05-28T08:04:17.913Z"
   },
   {
    "duration": 53,
    "start_time": "2025-05-28T08:04:18.156Z"
   },
   {
    "duration": 54,
    "start_time": "2025-05-28T08:04:18.210Z"
   },
   {
    "duration": 51,
    "start_time": "2025-05-28T08:04:18.266Z"
   },
   {
    "duration": 54,
    "start_time": "2025-05-28T08:04:18.319Z"
   },
   {
    "duration": 50,
    "start_time": "2025-05-28T08:04:18.375Z"
   },
   {
    "duration": 53,
    "start_time": "2025-05-28T08:04:18.427Z"
   },
   {
    "duration": 53,
    "start_time": "2025-05-28T08:04:18.484Z"
   },
   {
    "duration": 53,
    "start_time": "2025-05-28T08:04:18.539Z"
   },
   {
    "duration": 50,
    "start_time": "2025-05-28T08:04:18.594Z"
   },
   {
    "duration": 52,
    "start_time": "2025-05-28T08:04:18.646Z"
   },
   {
    "duration": 97,
    "start_time": "2025-05-28T08:04:18.700Z"
   },
   {
    "duration": 53,
    "start_time": "2025-05-28T08:04:18.798Z"
   },
   {
    "duration": 56,
    "start_time": "2025-05-28T08:04:18.853Z"
   },
   {
    "duration": 53,
    "start_time": "2025-05-28T08:04:18.911Z"
   },
   {
    "duration": 51,
    "start_time": "2025-05-28T08:06:42.089Z"
   },
   {
    "duration": 51,
    "start_time": "2025-05-28T08:06:55.958Z"
   },
   {
    "duration": 53,
    "start_time": "2025-05-28T08:07:02.951Z"
   },
   {
    "duration": 53,
    "start_time": "2025-05-28T08:07:10.814Z"
   },
   {
    "duration": 51,
    "start_time": "2025-05-28T08:11:03.924Z"
   },
   {
    "duration": 51,
    "start_time": "2025-05-28T08:11:13.450Z"
   },
   {
    "duration": 53,
    "start_time": "2025-05-28T08:12:00.666Z"
   },
   {
    "duration": 127,
    "start_time": "2025-05-28T08:21:02.246Z"
   },
   {
    "duration": 63,
    "start_time": "2025-05-28T08:21:20.874Z"
   },
   {
    "duration": 62,
    "start_time": "2025-05-28T08:21:43.615Z"
   },
   {
    "duration": 80,
    "start_time": "2025-05-28T08:22:48.323Z"
   },
   {
    "duration": 51,
    "start_time": "2025-05-28T08:24:55.535Z"
   },
   {
    "duration": 78,
    "start_time": "2025-05-28T08:26:07.292Z"
   },
   {
    "duration": 78,
    "start_time": "2025-05-28T08:26:45.654Z"
   },
   {
    "duration": 55,
    "start_time": "2025-05-28T08:32:11.808Z"
   },
   {
    "duration": 63,
    "start_time": "2025-05-28T08:33:08.089Z"
   },
   {
    "duration": 53,
    "start_time": "2025-05-28T08:33:21.470Z"
   },
   {
    "duration": 84,
    "start_time": "2025-05-28T08:40:58.168Z"
   },
   {
    "duration": 89,
    "start_time": "2025-05-28T08:41:21.604Z"
   },
   {
    "duration": 87,
    "start_time": "2025-05-28T08:41:38.333Z"
   },
   {
    "duration": 91,
    "start_time": "2025-05-28T08:42:25.628Z"
   },
   {
    "duration": 62,
    "start_time": "2025-05-28T08:46:22.807Z"
   },
   {
    "duration": 59,
    "start_time": "2025-05-28T08:46:33.353Z"
   },
   {
    "duration": 60,
    "start_time": "2025-05-28T08:47:40.516Z"
   },
   {
    "duration": 60,
    "start_time": "2025-05-28T08:48:11.363Z"
   },
   {
    "duration": 91,
    "start_time": "2025-05-28T08:48:28.276Z"
   },
   {
    "duration": 69,
    "start_time": "2025-05-28T08:51:57.307Z"
   },
   {
    "duration": 86,
    "start_time": "2025-05-28T08:52:01.210Z"
   },
   {
    "duration": 86,
    "start_time": "2025-05-28T08:52:39.384Z"
   },
   {
    "duration": 88,
    "start_time": "2025-05-28T08:52:52.339Z"
   },
   {
    "duration": 593,
    "start_time": "2025-05-28T09:49:22.166Z"
   },
   {
    "duration": 8584,
    "start_time": "2025-05-28T09:49:22.762Z"
   },
   {
    "duration": 232,
    "start_time": "2025-05-28T09:49:31.348Z"
   },
   {
    "duration": 49,
    "start_time": "2025-05-28T09:49:31.582Z"
   },
   {
    "duration": 152,
    "start_time": "2025-05-28T09:49:31.634Z"
   },
   {
    "duration": 48,
    "start_time": "2025-05-28T09:49:31.788Z"
   },
   {
    "duration": 49,
    "start_time": "2025-05-28T09:49:31.837Z"
   },
   {
    "duration": 50,
    "start_time": "2025-05-28T09:49:31.888Z"
   },
   {
    "duration": 50,
    "start_time": "2025-05-28T09:49:31.939Z"
   },
   {
    "duration": 49,
    "start_time": "2025-05-28T09:49:31.991Z"
   },
   {
    "duration": 140,
    "start_time": "2025-05-28T09:49:32.042Z"
   },
   {
    "duration": 47,
    "start_time": "2025-05-28T09:49:32.184Z"
   },
   {
    "duration": 48,
    "start_time": "2025-05-28T09:49:32.232Z"
   },
   {
    "duration": 90,
    "start_time": "2025-05-28T09:49:32.283Z"
   },
   {
    "duration": 60,
    "start_time": "2025-05-28T09:49:32.375Z"
   },
   {
    "duration": 49,
    "start_time": "2025-05-28T09:49:32.437Z"
   },
   {
    "duration": 52,
    "start_time": "2025-05-28T09:49:32.488Z"
   },
   {
    "duration": 51,
    "start_time": "2025-05-28T09:49:32.541Z"
   },
   {
    "duration": 502,
    "start_time": "2025-05-28T09:55:23.685Z"
   },
   {
    "duration": 8794,
    "start_time": "2025-05-28T09:55:24.189Z"
   },
   {
    "duration": 214,
    "start_time": "2025-05-28T09:55:32.985Z"
   },
   {
    "duration": 48,
    "start_time": "2025-05-28T09:55:33.201Z"
   },
   {
    "duration": 51,
    "start_time": "2025-05-28T09:55:33.252Z"
   },
   {
    "duration": 49,
    "start_time": "2025-05-28T09:55:33.305Z"
   },
   {
    "duration": 52,
    "start_time": "2025-05-28T09:55:33.356Z"
   },
   {
    "duration": 49,
    "start_time": "2025-05-28T09:55:33.410Z"
   },
   {
    "duration": 52,
    "start_time": "2025-05-28T09:55:33.461Z"
   },
   {
    "duration": 51,
    "start_time": "2025-05-28T09:55:33.515Z"
   },
   {
    "duration": 189,
    "start_time": "2025-05-28T09:55:33.568Z"
   },
   {
    "duration": 49,
    "start_time": "2025-05-28T09:55:33.758Z"
   },
   {
    "duration": 47,
    "start_time": "2025-05-28T09:55:33.809Z"
   },
   {
    "duration": 84,
    "start_time": "2025-05-28T09:55:33.859Z"
   },
   {
    "duration": 58,
    "start_time": "2025-05-28T09:55:33.945Z"
   },
   {
    "duration": 49,
    "start_time": "2025-05-28T09:55:34.005Z"
   },
   {
    "duration": 174,
    "start_time": "2025-05-28T09:55:34.056Z"
   },
   {
    "duration": 50,
    "start_time": "2025-05-28T09:55:34.232Z"
   },
   {
    "duration": 1194,
    "start_time": "2025-05-28T17:38:40.720Z"
   },
   {
    "duration": 16517,
    "start_time": "2025-05-28T17:38:41.916Z"
   },
   {
    "duration": 234,
    "start_time": "2025-05-28T17:38:58.434Z"
   },
   {
    "duration": 0,
    "start_time": "2025-05-28T17:38:58.670Z"
   },
   {
    "duration": 0,
    "start_time": "2025-05-28T17:38:58.671Z"
   },
   {
    "duration": 0,
    "start_time": "2025-05-28T17:38:58.672Z"
   },
   {
    "duration": 0,
    "start_time": "2025-05-28T17:38:58.673Z"
   },
   {
    "duration": 0,
    "start_time": "2025-05-28T17:38:58.674Z"
   },
   {
    "duration": 0,
    "start_time": "2025-05-28T17:38:58.675Z"
   },
   {
    "duration": 0,
    "start_time": "2025-05-28T17:38:58.676Z"
   },
   {
    "duration": 0,
    "start_time": "2025-05-28T17:38:58.677Z"
   },
   {
    "duration": 0,
    "start_time": "2025-05-28T17:38:58.678Z"
   },
   {
    "duration": 0,
    "start_time": "2025-05-28T17:38:58.679Z"
   },
   {
    "duration": 0,
    "start_time": "2025-05-28T17:38:58.680Z"
   },
   {
    "duration": 0,
    "start_time": "2025-05-28T17:38:58.681Z"
   },
   {
    "duration": 0,
    "start_time": "2025-05-28T17:38:58.681Z"
   },
   {
    "duration": 0,
    "start_time": "2025-05-28T17:38:58.682Z"
   },
   {
    "duration": 0,
    "start_time": "2025-05-28T17:38:58.683Z"
   },
   {
    "duration": 12,
    "start_time": "2025-05-28T17:42:04.889Z"
   },
   {
    "duration": 552,
    "start_time": "2025-07-30T19:38:54.336Z"
   },
   {
    "duration": 9083,
    "start_time": "2025-07-30T19:38:54.890Z"
   },
   {
    "duration": 238,
    "start_time": "2025-07-30T19:39:03.974Z"
   },
   {
    "duration": 54,
    "start_time": "2025-07-30T19:39:04.214Z"
   },
   {
    "duration": 73,
    "start_time": "2025-07-30T19:39:04.270Z"
   },
   {
    "duration": 121,
    "start_time": "2025-07-30T19:39:04.344Z"
   },
   {
    "duration": 52,
    "start_time": "2025-07-30T19:39:04.467Z"
   },
   {
    "duration": 52,
    "start_time": "2025-07-30T19:39:04.521Z"
   },
   {
    "duration": 54,
    "start_time": "2025-07-30T19:39:04.575Z"
   },
   {
    "duration": 53,
    "start_time": "2025-07-30T19:39:04.630Z"
   },
   {
    "duration": 54,
    "start_time": "2025-07-30T19:39:04.686Z"
   },
   {
    "duration": 158,
    "start_time": "2025-07-30T19:39:04.741Z"
   },
   {
    "duration": 126,
    "start_time": "2025-07-30T19:39:04.901Z"
   },
   {
    "duration": 94,
    "start_time": "2025-07-30T19:39:05.030Z"
   },
   {
    "duration": 66,
    "start_time": "2025-07-30T19:39:05.126Z"
   },
   {
    "duration": 55,
    "start_time": "2025-07-30T19:39:05.194Z"
   },
   {
    "duration": 58,
    "start_time": "2025-07-30T19:39:05.250Z"
   },
   {
    "duration": 57,
    "start_time": "2025-07-30T19:39:05.310Z"
   }
  ],
  "kernelspec": {
   "display_name": "Python 3 (ipykernel)",
   "language": "python",
   "name": "python3"
  },
  "language_info": {
   "codemirror_mode": {
    "name": "ipython",
    "version": 3
   },
   "file_extension": ".py",
   "mimetype": "text/x-python",
   "name": "python",
   "nbconvert_exporter": "python",
   "pygments_lexer": "ipython3",
   "version": "3.9.5"
  },
  "toc": {
   "base_numbering": 1,
   "nav_menu": {},
   "number_sections": true,
   "sideBar": true,
   "skip_h1_title": true,
   "title_cell": "Table of Contents",
   "title_sidebar": "Contents",
   "toc_cell": false,
   "toc_position": {},
   "toc_section_display": true,
   "toc_window_display": true
  }
 },
 "nbformat": 4,
 "nbformat_minor": 5
}
